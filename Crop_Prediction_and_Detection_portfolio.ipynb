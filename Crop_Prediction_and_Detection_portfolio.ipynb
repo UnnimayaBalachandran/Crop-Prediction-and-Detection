{
  "nbformat": 4,
  "nbformat_minor": 0,
  "metadata": {
    "kernelspec": {
      "display_name": "Python 3",
      "language": "python",
      "name": "python3"
    },
    "language_info": {
      "codemirror_mode": {
        "name": "ipython",
        "version": 3
      },
      "file_extension": ".py",
      "mimetype": "text/x-python",
      "name": "python",
      "nbconvert_exporter": "python",
      "pygments_lexer": "ipython3",
      "version": "3.7.6"
    },
    "colab": {
      "name": "Crop_Prediction_and_Detection.ipynb",
      "provenance": []
    }
  },
  "cells": [
    {
      "cell_type": "markdown",
      "metadata": {
        "id": "0g4inCLxFaN3"
      },
      "source": [
        "## **Crop Prediction and Detection using Classification**\n",
        "\n",
        "---\n",
        "\n"
      ]
    },
    {
      "cell_type": "markdown",
      "metadata": {
        "id": "X45dbrjaFaN7"
      },
      "source": [
        "# Part 1 - DEFINE"
      ]
    },
    {
      "cell_type": "markdown",
      "metadata": {
        "id": "JkNCwfM3FaN8"
      },
      "source": [
        "### ---- 1 Problem Definition ----"
      ]
    },
    {
      "cell_type": "markdown",
      "metadata": {
        "id": "RYHtcERBFaN8"
      },
      "source": [
        "The main objective of this project is to determine the outcome of the harvest season, i.e. whether the crop would be healthy (alive), damaged by pesticides or damaged by other reasons."
      ]
    },
    {
      "cell_type": "code",
      "metadata": {
        "id": "DKYprT9qFaN9"
      },
      "source": [
        "#import libraries\n",
        "import numpy as np\n",
        "import pandas as pd\n",
        "import matplotlib.pyplot as plt\n",
        "import seaborn as sns\n",
        "\n",
        "#Importing the warnings\n",
        "import warnings\n",
        "warnings.filterwarnings('ignore')\n",
        "\n",
        "__author__ = \"Unnimaya Balachandran\"\n",
        "__email__ = \"unnimayabudayam@gmail.com\""
      ],
      "execution_count": null,
      "outputs": []
    },
    {
      "cell_type": "markdown",
      "metadata": {
        "id": "xq1pt1apFaN-"
      },
      "source": [
        "# Part 2 - DISCOVER"
      ]
    },
    {
      "cell_type": "markdown",
      "metadata": {
        "id": "19zrvdKAFaN-"
      },
      "source": [
        "### ---- Load the Data ----"
      ]
    },
    {
      "cell_type": "code",
      "metadata": {
        "colab": {
          "base_uri": "https://localhost:8080/",
          "height": 223
        },
        "id": "HwdwNBrKFaN_",
        "outputId": "80d354bf-927b-4103-ba06-426d337c3ec1"
      },
      "source": [
        "#Loading the dataset\n",
        "df_train = pd.read_csv(\"train_agriculture.csv\")\n",
        "df_train[\"source\"] = \"train\"\n",
        "df_test = pd.read_excel(\"test_agriculture.xlsx\")\n",
        "df_test[\"source\"] = \"test\"\n",
        "df = df_train\n",
        "df.head()"
      ],
      "execution_count": null,
      "outputs": [
        {
          "output_type": "execute_result",
          "data": {
            "text/html": [
              "<div>\n",
              "<style scoped>\n",
              "    .dataframe tbody tr th:only-of-type {\n",
              "        vertical-align: middle;\n",
              "    }\n",
              "\n",
              "    .dataframe tbody tr th {\n",
              "        vertical-align: top;\n",
              "    }\n",
              "\n",
              "    .dataframe thead th {\n",
              "        text-align: right;\n",
              "    }\n",
              "</style>\n",
              "<table border=\"1\" class=\"dataframe\">\n",
              "  <thead>\n",
              "    <tr style=\"text-align: right;\">\n",
              "      <th></th>\n",
              "      <th>ID</th>\n",
              "      <th>Estimated_Insects_Count</th>\n",
              "      <th>Crop_Type</th>\n",
              "      <th>Soil_Type</th>\n",
              "      <th>Pesticide_Use_Category</th>\n",
              "      <th>Number_Doses_Week</th>\n",
              "      <th>Number_Weeks_Used</th>\n",
              "      <th>Number_Weeks_Quit</th>\n",
              "      <th>Season</th>\n",
              "      <th>Crop_Damage</th>\n",
              "      <th>source</th>\n",
              "    </tr>\n",
              "  </thead>\n",
              "  <tbody>\n",
              "    <tr>\n",
              "      <th>0</th>\n",
              "      <td>F00000001</td>\n",
              "      <td>188</td>\n",
              "      <td>1</td>\n",
              "      <td>0</td>\n",
              "      <td>1</td>\n",
              "      <td>0</td>\n",
              "      <td>0.0</td>\n",
              "      <td>0</td>\n",
              "      <td>1</td>\n",
              "      <td>0</td>\n",
              "      <td>train</td>\n",
              "    </tr>\n",
              "    <tr>\n",
              "      <th>1</th>\n",
              "      <td>F00000003</td>\n",
              "      <td>209</td>\n",
              "      <td>1</td>\n",
              "      <td>0</td>\n",
              "      <td>1</td>\n",
              "      <td>0</td>\n",
              "      <td>0.0</td>\n",
              "      <td>0</td>\n",
              "      <td>2</td>\n",
              "      <td>1</td>\n",
              "      <td>train</td>\n",
              "    </tr>\n",
              "    <tr>\n",
              "      <th>2</th>\n",
              "      <td>F00000004</td>\n",
              "      <td>257</td>\n",
              "      <td>1</td>\n",
              "      <td>0</td>\n",
              "      <td>1</td>\n",
              "      <td>0</td>\n",
              "      <td>0.0</td>\n",
              "      <td>0</td>\n",
              "      <td>2</td>\n",
              "      <td>1</td>\n",
              "      <td>train</td>\n",
              "    </tr>\n",
              "    <tr>\n",
              "      <th>3</th>\n",
              "      <td>F00000005</td>\n",
              "      <td>257</td>\n",
              "      <td>1</td>\n",
              "      <td>1</td>\n",
              "      <td>1</td>\n",
              "      <td>0</td>\n",
              "      <td>0.0</td>\n",
              "      <td>0</td>\n",
              "      <td>2</td>\n",
              "      <td>1</td>\n",
              "      <td>train</td>\n",
              "    </tr>\n",
              "    <tr>\n",
              "      <th>4</th>\n",
              "      <td>F00000006</td>\n",
              "      <td>342</td>\n",
              "      <td>1</td>\n",
              "      <td>0</td>\n",
              "      <td>1</td>\n",
              "      <td>0</td>\n",
              "      <td>0.0</td>\n",
              "      <td>0</td>\n",
              "      <td>2</td>\n",
              "      <td>1</td>\n",
              "      <td>train</td>\n",
              "    </tr>\n",
              "  </tbody>\n",
              "</table>\n",
              "</div>"
            ],
            "text/plain": [
              "          ID  Estimated_Insects_Count  Crop_Type  ...  Season  Crop_Damage  source\n",
              "0  F00000001                      188          1  ...       1            0   train\n",
              "1  F00000003                      209          1  ...       2            1   train\n",
              "2  F00000004                      257          1  ...       2            1   train\n",
              "3  F00000005                      257          1  ...       2            1   train\n",
              "4  F00000006                      342          1  ...       2            1   train\n",
              "\n",
              "[5 rows x 11 columns]"
            ]
          },
          "metadata": {},
          "execution_count": 42
        }
      ]
    },
    {
      "cell_type": "markdown",
      "metadata": {
        "id": "ZNhqTtcWFaOA"
      },
      "source": [
        "#### Examine the Data"
      ]
    },
    {
      "cell_type": "code",
      "metadata": {
        "colab": {
          "base_uri": "https://localhost:8080/"
        },
        "id": "Wm25PYqSFaOB",
        "outputId": "3aa3e4e9-ea63-4bc2-acef-68190a0c14e4"
      },
      "source": [
        "for i in df.columns:\n",
        "    a=df[i].unique()\n",
        "    len(a)\n",
        "    print(i,len(a))\n",
        "    if len(a)<5:\n",
        "        print(a)"
      ],
      "execution_count": null,
      "outputs": [
        {
          "output_type": "stream",
          "name": "stdout",
          "text": [
            "ID 88858\n",
            "Estimated_Insects_Count 71\n",
            "Crop_Type 2\n",
            "[1 0]\n",
            "Soil_Type 2\n",
            "[0 1]\n",
            "Pesticide_Use_Category 3\n",
            "[1 3 2]\n",
            "Number_Doses_Week 20\n",
            "Number_Weeks_Used 65\n",
            "Number_Weeks_Quit 51\n",
            "Season 3\n",
            "[1 2 3]\n",
            "Crop_Damage 3\n",
            "[0 1 2]\n",
            "source 1\n",
            "['train']\n"
          ]
        }
      ]
    },
    {
      "cell_type": "code",
      "metadata": {
        "colab": {
          "base_uri": "https://localhost:8080/"
        },
        "id": "HsKUOBh3FaOB",
        "outputId": "dd2a1384-81f8-48b2-83ba-3e2d601f1aea"
      },
      "source": [
        "df.nunique()"
      ],
      "execution_count": null,
      "outputs": [
        {
          "output_type": "execute_result",
          "data": {
            "text/plain": [
              "ID                         88858\n",
              "Estimated_Insects_Count       71\n",
              "Crop_Type                      2\n",
              "Soil_Type                      2\n",
              "Pesticide_Use_Category         3\n",
              "Number_Doses_Week             20\n",
              "Number_Weeks_Used             64\n",
              "Number_Weeks_Quit             51\n",
              "Season                         3\n",
              "Crop_Damage                    3\n",
              "source                         1\n",
              "dtype: int64"
            ]
          },
          "metadata": {},
          "execution_count": 44
        }
      ]
    },
    {
      "cell_type": "code",
      "metadata": {
        "colab": {
          "base_uri": "https://localhost:8080/"
        },
        "id": "3SGRsRuQFaOB",
        "outputId": "3e27b9df-3c0b-4e84-83f9-dfc886bd1622"
      },
      "source": [
        "df.columns"
      ],
      "execution_count": null,
      "outputs": [
        {
          "output_type": "execute_result",
          "data": {
            "text/plain": [
              "Index(['ID', 'Estimated_Insects_Count', 'Crop_Type', 'Soil_Type',\n",
              "       'Pesticide_Use_Category', 'Number_Doses_Week', 'Number_Weeks_Used',\n",
              "       'Number_Weeks_Quit', 'Season', 'Crop_Damage', 'source'],\n",
              "      dtype='object')"
            ]
          },
          "metadata": {},
          "execution_count": 45
        }
      ]
    },
    {
      "cell_type": "code",
      "metadata": {
        "colab": {
          "base_uri": "https://localhost:8080/"
        },
        "id": "1pmSoNyjFaOC",
        "outputId": "4f1b8f53-ee6b-4684-86ea-23960ea32685"
      },
      "source": [
        "df.shape"
      ],
      "execution_count": null,
      "outputs": [
        {
          "output_type": "execute_result",
          "data": {
            "text/plain": [
              "(88858, 11)"
            ]
          },
          "metadata": {},
          "execution_count": 46
        }
      ]
    },
    {
      "cell_type": "markdown",
      "metadata": {
        "id": "5FqOBj2INXPM"
      },
      "source": [
        "**Check for null values**"
      ]
    },
    {
      "cell_type": "code",
      "metadata": {
        "colab": {
          "base_uri": "https://localhost:8080/"
        },
        "id": "CuJun7lvFaOC",
        "outputId": "2acd49bb-13dd-421e-e022-4cd906dad230"
      },
      "source": [
        "df.isnull().sum()"
      ],
      "execution_count": null,
      "outputs": [
        {
          "output_type": "execute_result",
          "data": {
            "text/plain": [
              "ID                            0\n",
              "Estimated_Insects_Count       0\n",
              "Crop_Type                     0\n",
              "Soil_Type                     0\n",
              "Pesticide_Use_Category        0\n",
              "Number_Doses_Week             0\n",
              "Number_Weeks_Used          9000\n",
              "Number_Weeks_Quit             0\n",
              "Season                        0\n",
              "Crop_Damage                   0\n",
              "source                        0\n",
              "dtype: int64"
            ]
          },
          "metadata": {},
          "execution_count": 47
        }
      ]
    },
    {
      "cell_type": "markdown",
      "metadata": {
        "id": "_XliazecRYUE"
      },
      "source": [
        "Number_Weeks_Used has 9000 missing values"
      ]
    },
    {
      "cell_type": "markdown",
      "metadata": {
        "id": "opKPxAqvNjfj"
      },
      "source": [
        "**Replace missing values with the mean of the data**"
      ]
    },
    {
      "cell_type": "code",
      "metadata": {
        "id": "Mw2G7fqeFaOC"
      },
      "source": [
        "df['Number_Weeks_Used'].fillna(df['Number_Weeks_Used'].mean(),inplace=True)"
      ],
      "execution_count": null,
      "outputs": []
    },
    {
      "cell_type": "code",
      "metadata": {
        "colab": {
          "base_uri": "https://localhost:8080/"
        },
        "id": "uUsNc3veFaOD",
        "outputId": "83dcc666-8147-4050-e003-2002bf932f39"
      },
      "source": [
        "# Confirm that no null values are present\n",
        "df.isnull().sum()"
      ],
      "execution_count": null,
      "outputs": [
        {
          "output_type": "execute_result",
          "data": {
            "text/plain": [
              "ID                         0\n",
              "Estimated_Insects_Count    0\n",
              "Crop_Type                  0\n",
              "Soil_Type                  0\n",
              "Pesticide_Use_Category     0\n",
              "Number_Doses_Week          0\n",
              "Number_Weeks_Used          0\n",
              "Number_Weeks_Quit          0\n",
              "Season                     0\n",
              "Crop_Damage                0\n",
              "source                     0\n",
              "dtype: int64"
            ]
          },
          "metadata": {},
          "execution_count": 49
        }
      ]
    },
    {
      "cell_type": "markdown",
      "metadata": {
        "id": "ZBf1oxTBRhoj"
      },
      "source": [
        "No null values are present"
      ]
    },
    {
      "cell_type": "code",
      "metadata": {
        "colab": {
          "base_uri": "https://localhost:8080/"
        },
        "id": "bRcaCbggFaOD",
        "outputId": "de5a6695-2cfc-4c08-becd-cf4ee34894f0"
      },
      "source": [
        "#Check Datatypes \n",
        "df.dtypes"
      ],
      "execution_count": null,
      "outputs": [
        {
          "output_type": "execute_result",
          "data": {
            "text/plain": [
              "ID                          object\n",
              "Estimated_Insects_Count      int64\n",
              "Crop_Type                    int64\n",
              "Soil_Type                    int64\n",
              "Pesticide_Use_Category       int64\n",
              "Number_Doses_Week            int64\n",
              "Number_Weeks_Used          float64\n",
              "Number_Weeks_Quit            int64\n",
              "Season                       int64\n",
              "Crop_Damage                  int64\n",
              "source                      object\n",
              "dtype: object"
            ]
          },
          "metadata": {},
          "execution_count": 50
        }
      ]
    },
    {
      "cell_type": "code",
      "metadata": {
        "colab": {
          "base_uri": "https://localhost:8080/"
        },
        "id": "08NeQq8eFaOD",
        "outputId": "8c8c177e-259c-400c-bdb4-1a988dbfc804"
      },
      "source": [
        "df.info()"
      ],
      "execution_count": null,
      "outputs": [
        {
          "output_type": "stream",
          "name": "stdout",
          "text": [
            "<class 'pandas.core.frame.DataFrame'>\n",
            "RangeIndex: 88858 entries, 0 to 88857\n",
            "Data columns (total 11 columns):\n",
            " #   Column                   Non-Null Count  Dtype  \n",
            "---  ------                   --------------  -----  \n",
            " 0   ID                       88858 non-null  object \n",
            " 1   Estimated_Insects_Count  88858 non-null  int64  \n",
            " 2   Crop_Type                88858 non-null  int64  \n",
            " 3   Soil_Type                88858 non-null  int64  \n",
            " 4   Pesticide_Use_Category   88858 non-null  int64  \n",
            " 5   Number_Doses_Week        88858 non-null  int64  \n",
            " 6   Number_Weeks_Used        88858 non-null  float64\n",
            " 7   Number_Weeks_Quit        88858 non-null  int64  \n",
            " 8   Season                   88858 non-null  int64  \n",
            " 9   Crop_Damage              88858 non-null  int64  \n",
            " 10  source                   88858 non-null  object \n",
            "dtypes: float64(1), int64(8), object(2)\n",
            "memory usage: 7.5+ MB\n"
          ]
        }
      ]
    },
    {
      "cell_type": "markdown",
      "metadata": {
        "id": "rJKrT_iwQ_8s"
      },
      "source": [
        "**Checking Correlation using heatmap**"
      ]
    },
    {
      "cell_type": "code",
      "metadata": {
        "colab": {
          "base_uri": "https://localhost:8080/",
          "height": 384
        },
        "id": "D8W159TeFaOE",
        "outputId": "4a5d2058-7076-4d75-ac9c-d4bf2b6a19a8"
      },
      "source": [
        "sns.heatmap(df.corr(),annot=True,cmap='Greens')\n",
        "plt.savefig(\"correlation.png\")"
      ],
      "execution_count": null,
      "outputs": [
        {
          "output_type": "display_data",
          "data": {
            "image/png": "[encoded data removed]",
            "text/plain": [
              "<Figure size 432x288 with 2 Axes>"
            ]
          },
          "metadata": {
            "needs_background": "light"
          }
        }
      ]
    },
    {
      "cell_type": "markdown",
      "metadata": {
        "id": "bKtldHkHRttn"
      },
      "source": [
        "From correlation map, we came to the following insights\n",
        "- Estimated_Insects_count,Pesticide_use_category and Number_weeks_used are positively correlated with Crop damage\n",
        "- Number_weeks_used  is positively correlated with Estimated_Insects_count and Pesticide_use_category\n",
        "- Number_weeks_Quit is highly negatively correlated with Pesticide_use_category and Number_weeks_used"
      ]
    },
    {
      "cell_type": "markdown",
      "metadata": {
        "id": "KjgCKugRSTNf"
      },
      "source": [
        "## **Univariate Analysis**"
      ]
    },
    {
      "cell_type": "code",
      "metadata": {
        "colab": {
          "base_uri": "https://localhost:8080/",
          "height": 430
        },
        "id": "omYSFOCFFaOE",
        "outputId": "712a60bb-cd7d-412b-8482-f96cc0ec83bd"
      },
      "source": [
        "plt.figure(figsize=(12,5))\n",
        "sns.catplot(x='Crop_Damage', data=df, palette=\"Set2\",kind='count',hue='Crop_Type')\n",
        "plt.xlabel(\"Crop_Damage\", fontsize=16)\n",
        "plt.ylabel(\"Count\", fontsize=16)\n",
        "plt.title(\"Crop_Type Grouped Count\", fontsize=20)\n",
        "plt.xticks(rotation=45)\n",
        "plt.show()\n",
        "plt.savefig(\"Crop_Type Grouped Count.png\")"
      ],
      "execution_count": null,
      "outputs": [
        {
          "output_type": "display_data",
          "data": {
            "text/plain": [
              "<Figure size 864x360 with 0 Axes>"
            ]
          },
          "metadata": {}
        },
        {
          "output_type": "display_data",
          "data": {
            "image/png": "[encoded data removed]",
            "text/plain": [
              "<Figure size 418.75x360 with 1 Axes>"
            ]
          },
          "metadata": {
            "needs_background": "light"
          }
        },
        {
          "output_type": "display_data",
          "data": {
            "text/plain": [
              "<Figure size 432x288 with 0 Axes>"
            ]
          },
          "metadata": {}
        }
      ]
    },
    {
      "cell_type": "markdown",
      "metadata": {
        "id": "D8YMe0E5TslS"
      },
      "source": [
        " - Crop damage due to pesticides are less in comparison to damage due to other causes.\n",
        " - Crop type 0 has higher chance of survival compared to crop type 1."
      ]
    },
    {
      "cell_type": "code",
      "metadata": {
        "colab": {
          "base_uri": "https://localhost:8080/",
          "height": 351
        },
        "id": "YrAITMWDFaOE",
        "outputId": "57a1e019-8868-45a7-a9ec-de5f2d7f5e4f"
      },
      "source": [
        "fig, [ax1,ax2,ax3] = plt.subplots(nrows=1,ncols=3,figsize=(15,5))\n",
        "ax1=sns.countplot(x=\"Crop_Damage\" ,hue=\"Pesticide_Use_Category\",data=df[df[\"Crop_Damage\"]==0],ax=ax1)\n",
        "ax1.set_title(\"Crop Damage vs Insect Count for Crop Type\")\n",
        "plt.savefig(\"Crop Damage vs Insect Count.png\")\n",
        "ax2=sns.countplot(x=\"Crop_Damage\" ,hue=\"Pesticide_Use_Category\",data=df[df[\"Crop_Damage\"]==1],ax=ax2)\n",
        "ax2.set_title(\"Crop Damage vs Number Week Used\")\n",
        "plt.savefig(\"Crop Damage vs Number Week Used.png\")\n",
        "ax3=sns.countplot(x=\"Crop_Damage\" ,hue=\"Pesticide_Use_Category\",data=df[df[\"Crop_Damage\"]==2],ax=ax3)\n",
        "ax3.set_title(\"Crop Damage vs Pesticide Use Category \")\n",
        "plt.savefig(\"Crop Damage vs Pesticide use category.png\")\n"
      ],
      "execution_count": null,
      "outputs": [
        {
          "output_type": "display_data",
          "data": {
            "image/png": "[encoded data removed]",
            "text/plain": [
              "<Figure size 1080x360 with 3 Axes>"
            ]
          },
          "metadata": {
            "needs_background": "light"
          }
        }
      ]
    },
    {
      "cell_type": "markdown",
      "metadata": {
        "id": "7ImBHBfFUHc5"
      },
      "source": [
        " - Type 2 pesticide is much safer to use as compared to Type 3 pesticide.\n",
        " - Type 3 pesticide shows most pesticide related damage to crops."
      ]
    },
    {
      "cell_type": "code",
      "metadata": {
        "colab": {
          "base_uri": "https://localhost:8080/",
          "height": 402
        },
        "id": "NRJJJw2IFaOF",
        "outputId": "a4fab89c-69d8-4ca8-e1a6-56fef4d96263"
      },
      "source": [
        "plt.figure(figsize=(12,5))\n",
        "g= sns.FacetGrid(df, col='Crop_Damage',size=5)\n",
        "g = g.map(sns.distplot, \"Number_Weeks_Used\")\n",
        "plt.show()\n",
        "plt.savefig(\"Number of weeks pesticide used vs Crop damege.png\")"
      ],
      "execution_count": null,
      "outputs": [
        {
          "output_type": "display_data",
          "data": {
            "text/plain": [
              "<Figure size 864x360 with 0 Axes>"
            ]
          },
          "metadata": {}
        },
        {
          "output_type": "display_data",
          "data": {
            "image/png": "[encoded data removed]",
            "text/plain": [
              "<Figure size 1080x360 with 3 Axes>"
            ]
          },
          "metadata": {
            "needs_background": "light"
          }
        },
        {
          "output_type": "display_data",
          "data": {
            "text/plain": [
              "<Figure size 432x288 with 0 Axes>"
            ]
          },
          "metadata": {}
        }
      ]
    },
    {
      "cell_type": "markdown",
      "metadata": {
        "id": "FZoF3FdtUUyz"
      },
      "source": [
        " - From Graph 1 we can conclude that till 20-25 weeks damage due to pesticide is negligible.\n",
        " - From Graph 3 we can see that after 20 weeks damage due to use of pesticide increrases significantly."
      ]
    },
    {
      "cell_type": "markdown",
      "metadata": {
        "id": "rpQCu3KPUtbK"
      },
      "source": [
        "## **Bivariate Analysis**"
      ]
    },
    {
      "cell_type": "code",
      "metadata": {
        "colab": {
          "base_uri": "https://localhost:8080/",
          "height": 299
        },
        "id": "KNJvK5X7FaOF",
        "outputId": "5aa8b138-9543-4a4a-9ff1-ae13aa2ac083"
      },
      "source": [
        "sns.barplot(x=\"Crop_Damage\" ,y=\"Estimated_Insects_Count\",hue=\"Crop_Type\",data=df)"
      ],
      "execution_count": null,
      "outputs": [
        {
          "output_type": "execute_result",
          "data": {
            "text/plain": [
              "<matplotlib.axes._subplots.AxesSubplot at 0x7fca2e78a210>"
            ]
          },
          "metadata": {},
          "execution_count": 57
        },
        {
          "output_type": "display_data",
          "data": {
            "image/png": "[encoded data removed]",
            "text/plain": [
              "<Figure size 432x288 with 1 Axes>"
            ]
          },
          "metadata": {
            "needs_background": "light"
          }
        }
      ]
    },
    {
      "cell_type": "markdown",
      "metadata": {
        "id": "f-2Rj2uRU2g9"
      },
      "source": [
        "Most insect attacked on crop type 0."
      ]
    },
    {
      "cell_type": "code",
      "metadata": {
        "colab": {
          "base_uri": "https://localhost:8080/",
          "height": 388
        },
        "id": "RQCDkBhyFaOF",
        "outputId": "01e30e2d-a56f-42c8-94d8-5f2c4f455f06"
      },
      "source": [
        "plt.figure(figsize=(12,5))\n",
        "sns.catplot(x='Crop_Type',y='Number_Weeks_Used', data=df, palette=\"Set2\",kind='bar',col='Crop_Damage')\n",
        "plt.xticks(rotation=45)\n",
        "plt.show()"
      ],
      "execution_count": null,
      "outputs": [
        {
          "output_type": "display_data",
          "data": {
            "text/plain": [
              "<Figure size 864x360 with 0 Axes>"
            ]
          },
          "metadata": {}
        },
        {
          "output_type": "display_data",
          "data": {
            "image/png": "[encoded data removed]",
            "text/plain": [
              "<Figure size 1080x360 with 3 Axes>"
            ]
          },
          "metadata": {
            "needs_background": "light"
          }
        }
      ]
    },
    {
      "cell_type": "markdown",
      "metadata": {
        "id": "1ebs7jYwVFSM"
      },
      "source": [
        " - Crop Type 0 is more vulnerable to pesticide related and other damages as compared to Type1\n",
        " - Avg. duration of pesticide related damage is lower for Crop type 1."
      ]
    },
    {
      "cell_type": "markdown",
      "metadata": {
        "id": "6ojad2yrVN7q"
      },
      "source": [
        "### **Outlier Analysis**"
      ]
    },
    {
      "cell_type": "code",
      "metadata": {
        "colab": {
          "base_uri": "https://localhost:8080/",
          "height": 315
        },
        "id": "EukUR3RBFaOF",
        "outputId": "d9951d3f-4d18-4dea-ed70-62c0758ee3f7"
      },
      "source": [
        "df.describe()"
      ],
      "execution_count": null,
      "outputs": [
        {
          "output_type": "execute_result",
          "data": {
            "text/html": [
              "<div>\n",
              "<style scoped>\n",
              "    .dataframe tbody tr th:only-of-type {\n",
              "        vertical-align: middle;\n",
              "    }\n",
              "\n",
              "    .dataframe tbody tr th {\n",
              "        vertical-align: top;\n",
              "    }\n",
              "\n",
              "    .dataframe thead th {\n",
              "        text-align: right;\n",
              "    }\n",
              "</style>\n",
              "<table border=\"1\" class=\"dataframe\">\n",
              "  <thead>\n",
              "    <tr style=\"text-align: right;\">\n",
              "      <th></th>\n",
              "      <th>Estimated_Insects_Count</th>\n",
              "      <th>Crop_Type</th>\n",
              "      <th>Soil_Type</th>\n",
              "      <th>Pesticide_Use_Category</th>\n",
              "      <th>Number_Doses_Week</th>\n",
              "      <th>Number_Weeks_Used</th>\n",
              "      <th>Number_Weeks_Quit</th>\n",
              "      <th>Season</th>\n",
              "      <th>Crop_Damage</th>\n",
              "    </tr>\n",
              "  </thead>\n",
              "  <tbody>\n",
              "    <tr>\n",
              "      <th>count</th>\n",
              "      <td>88858.000000</td>\n",
              "      <td>88858.000000</td>\n",
              "      <td>88858.000000</td>\n",
              "      <td>88858.000000</td>\n",
              "      <td>88858.000000</td>\n",
              "      <td>88858.000000</td>\n",
              "      <td>88858.000000</td>\n",
              "      <td>88858.000000</td>\n",
              "      <td>88858.000000</td>\n",
              "    </tr>\n",
              "    <tr>\n",
              "      <th>mean</th>\n",
              "      <td>1399.012210</td>\n",
              "      <td>0.284375</td>\n",
              "      <td>0.458417</td>\n",
              "      <td>2.264186</td>\n",
              "      <td>25.849952</td>\n",
              "      <td>28.623970</td>\n",
              "      <td>9.589986</td>\n",
              "      <td>1.896959</td>\n",
              "      <td>0.190562</td>\n",
              "    </tr>\n",
              "    <tr>\n",
              "      <th>std</th>\n",
              "      <td>849.048781</td>\n",
              "      <td>0.451119</td>\n",
              "      <td>0.498271</td>\n",
              "      <td>0.461772</td>\n",
              "      <td>15.554428</td>\n",
              "      <td>11.747567</td>\n",
              "      <td>9.900631</td>\n",
              "      <td>0.701322</td>\n",
              "      <td>0.454215</td>\n",
              "    </tr>\n",
              "    <tr>\n",
              "      <th>min</th>\n",
              "      <td>150.000000</td>\n",
              "      <td>0.000000</td>\n",
              "      <td>0.000000</td>\n",
              "      <td>1.000000</td>\n",
              "      <td>0.000000</td>\n",
              "      <td>0.000000</td>\n",
              "      <td>0.000000</td>\n",
              "      <td>1.000000</td>\n",
              "      <td>0.000000</td>\n",
              "    </tr>\n",
              "    <tr>\n",
              "      <th>25%</th>\n",
              "      <td>731.000000</td>\n",
              "      <td>0.000000</td>\n",
              "      <td>0.000000</td>\n",
              "      <td>2.000000</td>\n",
              "      <td>15.000000</td>\n",
              "      <td>20.000000</td>\n",
              "      <td>0.000000</td>\n",
              "      <td>1.000000</td>\n",
              "      <td>0.000000</td>\n",
              "    </tr>\n",
              "    <tr>\n",
              "      <th>50%</th>\n",
              "      <td>1212.000000</td>\n",
              "      <td>0.000000</td>\n",
              "      <td>0.000000</td>\n",
              "      <td>2.000000</td>\n",
              "      <td>20.000000</td>\n",
              "      <td>28.623970</td>\n",
              "      <td>7.000000</td>\n",
              "      <td>2.000000</td>\n",
              "      <td>0.000000</td>\n",
              "    </tr>\n",
              "    <tr>\n",
              "      <th>75%</th>\n",
              "      <td>1898.000000</td>\n",
              "      <td>1.000000</td>\n",
              "      <td>1.000000</td>\n",
              "      <td>3.000000</td>\n",
              "      <td>40.000000</td>\n",
              "      <td>36.000000</td>\n",
              "      <td>16.000000</td>\n",
              "      <td>2.000000</td>\n",
              "      <td>0.000000</td>\n",
              "    </tr>\n",
              "    <tr>\n",
              "      <th>max</th>\n",
              "      <td>4097.000000</td>\n",
              "      <td>1.000000</td>\n",
              "      <td>1.000000</td>\n",
              "      <td>3.000000</td>\n",
              "      <td>95.000000</td>\n",
              "      <td>67.000000</td>\n",
              "      <td>50.000000</td>\n",
              "      <td>3.000000</td>\n",
              "      <td>2.000000</td>\n",
              "    </tr>\n",
              "  </tbody>\n",
              "</table>\n",
              "</div>"
            ],
            "text/plain": [
              "       Estimated_Insects_Count     Crop_Type  ...        Season   Crop_Damage\n",
              "count             88858.000000  88858.000000  ...  88858.000000  88858.000000\n",
              "mean               1399.012210      0.284375  ...      1.896959      0.190562\n",
              "std                 849.048781      0.451119  ...      0.701322      0.454215\n",
              "min                 150.000000      0.000000  ...      1.000000      0.000000\n",
              "25%                 731.000000      0.000000  ...      1.000000      0.000000\n",
              "50%                1212.000000      0.000000  ...      2.000000      0.000000\n",
              "75%                1898.000000      1.000000  ...      2.000000      0.000000\n",
              "max                4097.000000      1.000000  ...      3.000000      2.000000\n",
              "\n",
              "[8 rows x 9 columns]"
            ]
          },
          "metadata": {},
          "execution_count": 60
        }
      ]
    },
    {
      "cell_type": "markdown",
      "metadata": {
        "id": "eUxfQdKUVcZ2"
      },
      "source": [
        "some outliers are present in Insect_Count ,doses_week and number_weeks_quit columns"
      ]
    },
    {
      "cell_type": "code",
      "metadata": {
        "colab": {
          "base_uri": "https://localhost:8080/"
        },
        "id": "L-h7KS9xFaOG",
        "outputId": "968ff854-9e45-49ac-d278-547baa6b5f4f"
      },
      "source": [
        "#Dropping ID and Source column from the data for outlier analysis\n",
        "df.drop(columns=[\"ID\",\"source\"],axis=1,inplace=True)\n",
        "df.dtypes"
      ],
      "execution_count": null,
      "outputs": [
        {
          "output_type": "execute_result",
          "data": {
            "text/plain": [
              "Estimated_Insects_Count      int64\n",
              "Crop_Type                    int64\n",
              "Soil_Type                    int64\n",
              "Pesticide_Use_Category       int64\n",
              "Number_Doses_Week            int64\n",
              "Number_Weeks_Used          float64\n",
              "Number_Weeks_Quit            int64\n",
              "Season                       int64\n",
              "Crop_Damage                  int64\n",
              "dtype: object"
            ]
          },
          "metadata": {},
          "execution_count": 61
        }
      ]
    },
    {
      "cell_type": "code",
      "metadata": {
        "colab": {
          "base_uri": "https://localhost:8080/",
          "height": 358
        },
        "id": "RJi1k0B8FaOG",
        "outputId": "d8877c0a-50e6-4fe3-a5e8-e97d16422f82"
      },
      "source": [
        "#check for outliers using boxplot\n",
        "df.plot(kind=\"box\",subplots=True,layout=(5,5),figsize=(15,15))\n",
        "plt.savefig(\"Boxplot for various features.png\")"
      ],
      "execution_count": null,
      "outputs": [
        {
          "output_type": "display_data",
          "data": {
            "image/png": "[encoded data removed]",
            "text/plain": [
              "<Figure size 1080x1080 with 25 Axes>"
            ]
          },
          "metadata": {
            "needs_background": "light"
          }
        }
      ]
    },
    {
      "cell_type": "markdown",
      "metadata": {
        "id": "1_ZQLEbOVyFW"
      },
      "source": [
        "**Replacing Outlier Values with the mean of corresponding columns**"
      ]
    },
    {
      "cell_type": "code",
      "metadata": {
        "id": "5mlfjFvYFaOG"
      },
      "source": [
        "df.loc[df['Number_Weeks_Used']>55,'Number_Weeks_Used'] = np.mean(df[\"Number_Weeks_Used\"])\n",
        "df.loc[df['Estimated_Insects_Count']>3500,'Estimated_Insects_Count'] = np.mean(df[\"Estimated_Insects_Count\"])\n",
        "df.loc[df['Number_Weeks_Quit']>40,'Number_Weeks_Quit'] = np.mean(df[\"Number_Weeks_Quit\"])\n",
        "df.loc[df['Number_Doses_Week']>80,'Number_Doses_Week'] = np.mean(df[\"Number_Doses_Week\"])"
      ],
      "execution_count": null,
      "outputs": []
    },
    {
      "cell_type": "code",
      "metadata": {
        "colab": {
          "base_uri": "https://localhost:8080/",
          "height": 526
        },
        "id": "21qtgKVPFaOG",
        "outputId": "a0ed345b-ebc5-4a4c-b9dc-c90695ab8913"
      },
      "source": [
        "#Once again check for outliers using boxplot\n",
        "df.plot(kind=\"box\",subplots=True,layout=(5,5),figsize=(15,15))"
      ],
      "execution_count": null,
      "outputs": [
        {
          "output_type": "execute_result",
          "data": {
            "text/plain": [
              "Estimated_Insects_Count       AxesSubplot(0.125,0.749828;0.133621x0.130172)\n",
              "Crop_Type                  AxesSubplot(0.285345,0.749828;0.133621x0.130172)\n",
              "Soil_Type                   AxesSubplot(0.44569,0.749828;0.133621x0.130172)\n",
              "Pesticide_Use_Category     AxesSubplot(0.606034,0.749828;0.133621x0.130172)\n",
              "Number_Doses_Week          AxesSubplot(0.766379,0.749828;0.133621x0.130172)\n",
              "Number_Weeks_Used             AxesSubplot(0.125,0.593621;0.133621x0.130172)\n",
              "Number_Weeks_Quit          AxesSubplot(0.285345,0.593621;0.133621x0.130172)\n",
              "Season                      AxesSubplot(0.44569,0.593621;0.133621x0.130172)\n",
              "Crop_Damage                AxesSubplot(0.606034,0.593621;0.133621x0.130172)\n",
              "dtype: object"
            ]
          },
          "metadata": {},
          "execution_count": 64
        },
        {
          "output_type": "display_data",
          "data": {
            "image/png": "[encoded data removed]",
            "text/plain": [
              "<Figure size 1080x1080 with 25 Axes>"
            ]
          },
          "metadata": {
            "needs_background": "light"
          }
        }
      ]
    },
    {
      "cell_type": "markdown",
      "metadata": {
        "id": "CxEtbhsvWCpd"
      },
      "source": [
        "All outliers are removed"
      ]
    },
    {
      "cell_type": "markdown",
      "metadata": {
        "id": "z81R5LoIWOK8"
      },
      "source": [
        "## **Skew Analysis**"
      ]
    },
    {
      "cell_type": "code",
      "metadata": {
        "colab": {
          "base_uri": "https://localhost:8080/"
        },
        "id": "oBBx01mxFaOH",
        "outputId": "6e048189-a15d-49b6-839f-5bf222cdeb11"
      },
      "source": [
        "df.skew()"
      ],
      "execution_count": null,
      "outputs": [
        {
          "output_type": "execute_result",
          "data": {
            "text/plain": [
              "Estimated_Insects_Count    0.647325\n",
              "Crop_Type                  0.955978\n",
              "Soil_Type                  0.166914\n",
              "Pesticide_Use_Category     0.779488\n",
              "Number_Doses_Week          0.911044\n",
              "Number_Weeks_Used          0.117167\n",
              "Number_Weeks_Quit          0.831183\n",
              "Season                     0.145228\n",
              "Crop_Damage                2.367816\n",
              "dtype: float64"
            ]
          },
          "metadata": {},
          "execution_count": 65
        }
      ]
    },
    {
      "cell_type": "code",
      "metadata": {
        "colab": {
          "base_uri": "https://localhost:8080/",
          "height": 663
        },
        "id": "lds0EHTrFaOH",
        "outputId": "67b66211-e4a3-438c-f4c8-92f446bb305e"
      },
      "source": [
        "df.hist(figsize=(15,15), layout=(4,4), bins=20)\n",
        "plt.savefig(\"Skew Analysis.png\")"
      ],
      "execution_count": null,
      "outputs": [
        {
          "output_type": "display_data",
          "data": {
            "image/png": "[encoded data removed]",
            "text/plain": [
              "<Figure size 1080x1080 with 16 Axes>"
            ]
          },
          "metadata": {
            "needs_background": "light"
          }
        }
      ]
    },
    {
      "cell_type": "markdown",
      "metadata": {
        "id": "bbJ39i1TZwte"
      },
      "source": [
        "# **Part 3 - Develop**"
      ]
    },
    {
      "cell_type": "markdown",
      "metadata": {
        "id": "Vaq0R--mZ6_H"
      },
      "source": [
        "### **---- Engineer features ----**"
      ]
    },
    {
      "cell_type": "code",
      "metadata": {
        "id": "swEx5EexFaOH"
      },
      "source": [
        "#Importing libraries\n",
        "from sklearn.metrics import accuracy_score,classification_report,confusion_matrix,roc_auc_score,roc_curve\n",
        "from sklearn.linear_model import LogisticRegression\n",
        "from sklearn.naive_bayes import MultinomialNB\n",
        "from sklearn.neighbors import KNeighborsClassifier\n",
        "from sklearn.ensemble import RandomForestClassifier\n",
        "from sklearn.svm import SVC\n",
        "from sklearn.tree import DecisionTreeClassifier\n",
        "from sklearn.ensemble import AdaBoostClassifier,GradientBoostingClassifier\n",
        "from sklearn.model_selection import cross_val_score\n",
        "from scipy.stats import zscore\n",
        "from sklearn.preprocessing import LabelEncoder,StandardScaler\n",
        "from sklearn.model_selection import train_test_split,GridSearchCV\n",
        "from sklearn.decomposition import PCA\n",
        "from sklearn.naive_bayes import GaussianNB"
      ],
      "execution_count": null,
      "outputs": []
    },
    {
      "cell_type": "code",
      "metadata": {
        "id": "B7fxE6t4FaOH"
      },
      "source": [
        "# Dropping region and Day from x for classifcation dataset\n",
        "#Assigning the value of x for testing and training\n",
        "df_xc=df.drop(columns=['Crop_Damage'])\n",
        "yc=df[[\"Crop_Damage\"]]"
      ],
      "execution_count": null,
      "outputs": []
    },
    {
      "cell_type": "code",
      "metadata": {
        "id": "7k8_GmLLFaOI"
      },
      "source": [
        "#Bring every column to common scale by using Standard Scaler\n",
        "from sklearn.preprocessing import StandardScaler\n",
        "sc = StandardScaler()\n",
        "xc = sc.fit_transform(df_xc)\n",
        "df_xc=pd.DataFrame(xc,columns=df_xc.columns)"
      ],
      "execution_count": null,
      "outputs": []
    },
    {
      "cell_type": "code",
      "metadata": {
        "id": "OEWN9XA2FaOI"
      },
      "source": [
        "#defining a function to find accuracy score, crossvalidation score for the given dataset\n",
        "def max_acc_score(names,model_c,df_xc,yc):\n",
        "    accuracy_scr_max = 0\n",
        "    for r_state in range(42,100):\n",
        "        train_xc,test_xc,train_yc,test_yc = train_test_split(df_xc,yc,random_state = r_state,test_size = 0.33,stratify = yc)\n",
        "        model_c.fit(train_xc,train_yc)\n",
        "        accuracy_scr = accuracy_score(test_yc,model_c.predict(test_xc))\n",
        "        if accuracy_scr> accuracy_scr_max:\n",
        "            accuracy_scr_max=accuracy_scr\n",
        "            final_state = r_state\n",
        "            final_model = model_c\n",
        "            mean_acc = cross_val_score(final_model,df_xc,yc,cv=5,scoring=\"accuracy\").mean()\n",
        "            std_dev = cross_val_score(final_model,df_xc,yc,cv=5,scoring=\"accuracy\").std()\n",
        "            cross_val = cross_val_score(final_model,df_xc,yc,cv=5,scoring=\"accuracy\")\n",
        "    print('\\033[1m',\"Results for model : \",names,'\\n','\\033[0m'\n",
        "          \"max accuracy score is\" , accuracy_scr_max ,'\\n',\n",
        "          \"Mean accuracy score is : \",mean_acc,'\\n',\n",
        "          \"Std deviation score is : \",std_dev,'\\n',\n",
        "          \"Cross validation scores are :  \" ,cross_val) \n",
        "    print(\"*\"*100)"
      ],
      "execution_count": null,
      "outputs": []
    },
    {
      "cell_type": "markdown",
      "metadata": {
        "id": "8diQygY8aM6a"
      },
      "source": [
        "## **--- Create models ---**"
      ]
    },
    {
      "cell_type": "code",
      "metadata": {
        "colab": {
          "base_uri": "https://localhost:8080/"
        },
        "id": "jEhhngqAFaOI",
        "outputId": "0b4cd1c5-73f0-4e6c-b542-ee5fe9fb1c5a"
      },
      "source": [
        "#Using multiple classification algorithms we are calculating the best Algo which suit best for our data set \n",
        "accuracy_scr_max = []\n",
        "accuracy=[]\n",
        "std_dev=[]\n",
        "mean_acc=[]\n",
        "cross_val=[]\n",
        "models=[]\n",
        "models.append(('Random Forest', RandomForestClassifier()))\n",
        "models.append(('KNN', KNeighborsClassifier()))\n",
        "models.append(('Decision Tree Classifier', DecisionTreeClassifier()))\n",
        "models.append(('Gaussian NB',GaussianNB()))\n",
        "\n",
        "\n",
        "for names,model_c in models:\n",
        "    max_acc_score(names,model_c,df_xc,yc)"
      ],
      "execution_count": null,
      "outputs": [
        {
          "output_type": "stream",
          "name": "stdout",
          "text": [
            "\u001b[1m Results for model :  Random Forest \n",
            " \u001b[0mmax accuracy score is 0.8268994680125494 \n",
            " Mean accuracy score is :  0.8230322421750099 \n",
            " Std deviation score is :  0.001222914465280609 \n",
            " Cross validation scores are :   [0.82511816 0.82314877 0.8204479  0.82251984 0.82313882]\n",
            "****************************************************************************************************\n",
            "\u001b[1m Results for model :  KNN \n",
            " \u001b[0mmax accuracy score is 0.8304119492565817 \n",
            " Mean accuracy score is :  0.8270498878034861 \n",
            " Std deviation score is :  0.0017037082599439077 \n",
            " Cross validation scores are :   [0.82939455 0.82787531 0.82494936 0.82780935 0.82522087]\n",
            "****************************************************************************************************\n",
            "\u001b[1m Results for model :  Decision Tree Classifier \n",
            " \u001b[0mmax accuracy score is 0.7535465830036829 \n",
            " Mean accuracy score is :  0.7473946962958223 \n",
            " Std deviation score is :  0.0024891822415359557 \n",
            " Cross validation scores are :   [0.75208193 0.74527346 0.74634256 0.74632829 0.74880423]\n",
            "****************************************************************************************************\n",
            "\u001b[1m Results for model :  Gaussian NB \n",
            " \u001b[0mmax accuracy score is 0.8249215659528032 \n",
            " Mean accuracy score is :  0.8212091186402223 \n",
            " Std deviation score is :  0.0017104126392989223 \n",
            " Cross validation scores are :   [0.8239928  0.81859104 0.82117938 0.82105678 0.82122559]\n",
            "****************************************************************************************************\n"
          ]
        }
      ]
    },
    {
      "cell_type": "markdown",
      "metadata": {
        "id": "Far_iRu8gd79"
      },
      "source": [
        " - From initial model accuracy values we see that KNN are performing better than others.\n",
        " - It has maximum accuracy score and minimum standard deviations.\n",
        " - Decision Tree classifier is the worst performer with 74% accuracy."
      ]
    },
    {
      "cell_type": "markdown",
      "metadata": {
        "id": "-jsubj6ogzhM"
      },
      "source": [
        "**Estimating best n_neighbors using grid search CV for KNeighborsClassifier**\n"
      ]
    },
    {
      "cell_type": "code",
      "metadata": {
        "colab": {
          "base_uri": "https://localhost:8080/"
        },
        "id": "GZvC0YQuFaOI",
        "outputId": "a6d213a5-e0c9-4975-a4f8-72ca13d042b5"
      },
      "source": [
        "kNN=KNeighborsClassifier()\n",
        "parameters={\"n_neighbors\":range(2,30)}\n",
        "clf = GridSearchCV(kNN, parameters, cv=5,scoring=\"accuracy\")\n",
        "clf.fit(df_xc,yc)\n",
        "clf.best_params_"
      ],
      "execution_count": null,
      "outputs": [
        {
          "output_type": "execute_result",
          "data": {
            "text/plain": [
              "{'n_neighbors': 22}"
            ]
          },
          "metadata": {},
          "execution_count": 72
        }
      ]
    },
    {
      "cell_type": "markdown",
      "metadata": {
        "id": "7LU69t_UhAFg"
      },
      "source": [
        "**Again running KNeighborsClassifier with n_neighbor = 22**"
      ]
    },
    {
      "cell_type": "code",
      "metadata": {
        "colab": {
          "base_uri": "https://localhost:8080/"
        },
        "id": "WBpt_2tbMODC",
        "outputId": "f3000134-f0a4-4412-a32b-36e09866db2d"
      },
      "source": [
        "kNN=KNeighborsClassifier(n_neighbors=22)\n",
        "max_acc_score(\"KNeighbors Classifier\",kNN,df_xc,yc)"
      ],
      "execution_count": null,
      "outputs": [
        {
          "output_type": "stream",
          "name": "stdout",
          "text": [
            "\u001b[1m Results for model :  KNeighbors Classifier \n",
            " \u001b[0mmax accuracy score is 0.8432001091256309 \n",
            " Mean accuracy score is :  0.842028849081089 \n",
            " Std deviation score is :  0.0012047855035650036 \n",
            " Cross validation scores are :   [0.84284267 0.84318028 0.84059194 0.84300264 0.8405267 ]\n",
            "****************************************************************************************************\n"
          ]
        }
      ]
    },
    {
      "cell_type": "code",
      "metadata": {
        "id": "qk9l8btbMSD5"
      },
      "source": [
        "xc_train,xc_test,yc_train,yc_test=train_test_split(df_xc, yc,random_state = 80,test_size=0.20,stratify=yc)\n",
        "kNN.fit(xc_train,yc_train)\n",
        "yc_pred=kNN.predict(xc_test)"
      ],
      "execution_count": null,
      "outputs": []
    },
    {
      "cell_type": "code",
      "metadata": {
        "colab": {
          "base_uri": "https://localhost:8080/",
          "height": 483
        },
        "id": "_Vez89T1McpZ",
        "outputId": "275b51fe-411b-410f-ebfe-f52a22fd5f0a"
      },
      "source": [
        "from sklearn.metrics import confusion_matrix\n",
        "from sklearn.metrics import classification_report\n",
        "from sklearn.metrics import roc_auc_score\n",
        "\n",
        "print(\"accuracy score is : \",accuracy_score(yc_test,yc_pred))\n",
        "print(\"classification report \\n\",classification_report(yc_test,yc_pred))\n",
        "\n",
        "cnf = confusion_matrix(yc_test,yc_pred)\n",
        "sns.heatmap(cnf, annot=True, cmap = \"Blues\")"
      ],
      "execution_count": null,
      "outputs": [
        {
          "output_type": "stream",
          "name": "stdout",
          "text": [
            "accuracy score is :  0.8402543326581139\n",
            "classification report \n",
            "               precision    recall  f1-score   support\n",
            "\n",
            "           0       0.86      0.98      0.91     14848\n",
            "           1       0.48      0.17      0.25      2461\n",
            "           2       0.33      0.00      0.00       463\n",
            "\n",
            "    accuracy                           0.84     17772\n",
            "   macro avg       0.56      0.38      0.39     17772\n",
            "weighted avg       0.79      0.84      0.80     17772\n",
            "\n"
          ]
        },
        {
          "output_type": "execute_result",
          "data": {
            "text/plain": [
              "<matplotlib.axes._subplots.AxesSubplot at 0x7fca2e31b850>"
            ]
          },
          "metadata": {},
          "execution_count": 75
        },
        {
          "output_type": "display_data",
          "data": {
            "image/png": "[encoded data removed]",
            "text/plain": [
              "<Figure size 432x288 with 2 Axes>"
            ]
          },
          "metadata": {
            "needs_background": "light"
          }
        }
      ]
    },
    {
      "cell_type": "markdown",
      "metadata": {
        "id": "tSJ1yCDYhNdv"
      },
      "source": [
        "Due to abnormal distribution of data point -model is highly accurate in predicting no crop damage but needs \n",
        "improvement in predicting pesticide crop damage.\n",
        "\n",
        "Use ADABoost Classifier to boost up accuracy of the model."
      ]
    },
    {
      "cell_type": "code",
      "metadata": {
        "colab": {
          "base_uri": "https://localhost:8080/"
        },
        "id": "2bN-aSdqMgDb",
        "outputId": "f70f579d-56f3-4df5-9692-21f31783f6fa"
      },
      "source": [
        "#Using adaboost classifier\n",
        "from sklearn.ensemble import AdaBoostClassifier\n",
        "ad=AdaBoostClassifier(n_estimators=10,learning_rate=1)\n",
        "ad.fit(xc_train,yc_train)\n",
        "ad_pred=ad.predict(xc_test)\n",
        "print(accuracy_score(yc_test,ad_pred))\n",
        "print(confusion_matrix(yc_test,ad_pred))\n",
        "print(classification_report(yc_test,ad_pred))"
      ],
      "execution_count": null,
      "outputs": [
        {
          "output_type": "stream",
          "name": "stdout",
          "text": [
            "0.8400855277965339\n",
            "[[14830    18     0]\n",
            " [ 2361   100     0]\n",
            " [  429    34     0]]\n",
            "              precision    recall  f1-score   support\n",
            "\n",
            "           0       0.84      1.00      0.91     14848\n",
            "           1       0.66      0.04      0.08      2461\n",
            "           2       0.00      0.00      0.00       463\n",
            "\n",
            "    accuracy                           0.84     17772\n",
            "   macro avg       0.50      0.35      0.33     17772\n",
            "weighted avg       0.79      0.84      0.77     17772\n",
            "\n"
          ]
        }
      ]
    },
    {
      "cell_type": "markdown",
      "metadata": {
        "id": "gIg6uiVBhjSq"
      },
      "source": [
        "Not much improvement is observed by using ADABoost model. But overall it gives good accuracy among all models so we save as our final model."
      ]
    },
    {
      "cell_type": "markdown",
      "metadata": {
        "id": "pV9OyjmAi1rU"
      },
      "source": [
        "## **Part 4 - Final Model**"
      ]
    },
    {
      "cell_type": "code",
      "metadata": {
        "id": "e6jWIUndMk_u"
      },
      "source": [
        "#From above we see AdaBoostClassifier is performing better so we will use it to make our final predictions.\n",
        "Outcome_pred=ad.predict(df_test)"
      ],
      "execution_count": null,
      "outputs": []
    },
    {
      "cell_type": "code",
      "metadata": {
        "id": "VJtHp4dAMo-m"
      },
      "source": [
        "#Dataframe for Crop outcome prediction\n",
        "Outcome_pred=pd.DataFrame(Outcome_pred,columns=[\"Crop_Damage\"])"
      ],
      "execution_count": null,
      "outputs": []
    },
    {
      "cell_type": "code",
      "metadata": {
        "id": "X2Zf0bwxMvSJ"
      },
      "source": [
        "Outcome_pred.to_csv('Crop_Damage_Predictions.csv',index=False)"
      ],
      "execution_count": null,
      "outputs": []
    }
  ]
}